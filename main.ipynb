{
 "cells": [
  {
   "cell_type": "markdown",
   "metadata": {
    "slideshow": {
     "slide_type": "slide"
    }
   },
   "source": [
    "Cronograma\n",
    "----------\n",
    "**01 ) Primeiro dia**\n",
    "* [Ambiente de desenvolvimento](#sec_ambienteDesenvolvimento)\n",
    "* [Tipos de estruturas de dados](./estruturas_dados.ipynb)\n",
    "* [Lendo e escrevendo em arquivos](./lendo_arquivos.ipynb)\n",
    "* [Tratamento de erros](./erros.ipynb)\n",
    "* [Mapeamento Objeto Relacional](./functions_oo.ipynb)\n",
    "\n",
    "\n",
    "**02) Segundo dia**\n",
    "* [Acesso a banco de dados](./bancodedados.ipynb)\n",
    "* [Processamento matemático e científico](./processamentoMath.ipynb)\n",
    "\n",
    "**03) Terceiro dia**\n",
    "* [Introdução a aprendizagem de máquina em Python - Parte 01](./sklearn.ipynb)\n",
    "\n",
    "**04) Quarto dia**\n",
    "* [Introdução a aprendizagem de máquina em Python - Parte 02](./sklearn.ipynb)\n",
    "\n",
    "\n",
    "<a id='introduction'></a>"
   ]
  },
  {
   "cell_type": "markdown",
   "metadata": {
    "slideshow": {
     "slide_type": "slide"
    }
   },
   "source": [
    "Material\n",
    "--------\n",
    "\n",
    "Material disponibilizado em <https://github.com/asoliveira/petroanalisedados>. Como obter?\n",
    "\n",
    "* Opção 1. nstale o git no seu computador e clone o repositório https://github.com/asoliveira/petroanalisedados.git\n",
    "\n",
    "1. Abra o menu *iniciar*;\n",
    "2. Digite *anaconda*;\n",
    "3. Selecione o *Anaconda Prompt*;\n",
    "2. Digite <code>conda install git</code>\n",
    "\n",
    "* <code> git clone https://github.com/asoliveira/curso_python.git </code>\n",
    "\n",
    "\n",
    "* Opção 2. No endereço https://github.com/asoliveira/curso_python.git faça o download dos arquivos zipados.\n",
    "\n",
    "\n",
    "\n",
    "Dicas de locais para estudar:\n",
    "* <a id='https://www.youtube.com/user/cursosemvideo'>https://www.youtube.com/user/cursosemvideo</a>\n",
    "* <a id='https://www.geeksforgeeks.org/'>https://www.geeksforgeeks.org/</a>\n",
    "* <a id='https://docs.python.org/3/tutorial/'>https://docs.python.org/3/tutorial/</a> \n",
    "* <a id='https://realpython.com'> https://realpython.com/ </a>\n",
    "* <a id='https://www.w3schools.com/python/python_intro.asp'>https://www.w3schools.com/python/python_intro.asp</a>\n",
    "\n",
    "\n",
    "*Alex Sandro Oliveira* \n",
    "\n",
    "*T5FJ*"
   ]
  },
  {
   "cell_type": "markdown",
   "metadata": {
    "slideshow": {
     "slide_type": "subslide"
    }
   },
   "source": [
    "<a id='sec_ambienteDesenvolvimento'>Ambiente de Desenvolvimento</a>\n",
    "===========================\n",
    "\n",
    "+ O próprio Idle do Python\n",
    "+ O prompt de comando Python e Ipython\n",
    "+ O vscode <a href='https://code.visualstudio.com/docs/getstarted/introvideos'> https://code.visualstudio.com/docs/getstarted/introvideos</a>\n",
    "\n",
    "+ O Jupyter \n",
    "    - <a href='https://jupyter-notebook.readthedocs.io/en/stable/index.html'>https://jupyter-notebook.readthedocs.io/en/stable/index.html</a>\n",
    "    - <a href='https://ipython.readthedocs.io/en/stable/interactive/magics.html'> https://ipython.readthedocs.io/en/stable/interactive/magics.html </a>\n",
    "\n",
    "\n",
    "O jupyter tem Markdown\n",
    "<a href=\"https://www.markdownguide.org/basic-syntax/\"> https://www.markdownguide.org/basic-syntax/</a>\n",
    "+ Kaggle, Google Colab ..."
   ]
  },
  {
   "cell_type": "code",
   "execution_count": 1,
   "metadata": {},
   "outputs": [
    {
     "name": "stdout",
     "output_type": "stream",
     "text": [
      "2.47 ms ± 171 µs per loop (mean ± std. dev. of 7 runs, 1 loop each)\n"
     ]
    }
   ],
   "source": [
    "%%timeit\n",
    "import pandas as pd\n",
    "df = pd.read_csv('Dados/vendas_utf8.csv')"
   ]
  },
  {
   "cell_type": "code",
   "execution_count": 2,
   "metadata": {},
   "outputs": [
    {
     "name": "stdout",
     "output_type": "stream",
     "text": [
      "Hello World!\n"
     ]
    }
   ],
   "source": [
    "%run hello.py"
   ]
  },
  {
   "cell_type": "code",
   "execution_count": 3,
   "metadata": {},
   "outputs": [],
   "source": [
    "%load_ext autoreload\n",
    "%autoreload 2 \n",
    "\n"
   ]
  },
  {
   "cell_type": "code",
   "execution_count": 4,
   "metadata": {},
   "outputs": [
    {
     "name": "stdout",
     "output_type": "stream",
     "text": [
      " O volume na unidade F nÆo tem nome.\n",
      " O N£mero de S‚rie do Volume ‚ FFC5-98E7\n",
      "\n",
      " Pasta de F:\\Workspace\\CursoPython\n",
      "\n",
      "14/10/2019  05:57    <DIR>          .\n",
      "14/10/2019  05:57    <DIR>          ..\n",
      "14/10/2019  06:00    <DIR>          .ipynb_checkpoints\n",
      "25/09/2019  07:43             1.264 bancodedados.ipynb\n",
      "06/10/2019  19:58    <DIR>          Dados\n",
      "06/10/2019  19:49            27.499 erros.ipynb\n",
      "13/10/2019  20:42            24.130 estruturas_dados.ipynb\n",
      "14/09/2019  14:28             5.489 filename.joblib\n",
      "06/10/2019  19:49             5.742 functions_oo.ipynb\n",
      "13/10/2019  18:55                21 hello.py\n",
      "14/10/2019  05:39             9.836 lendo_arquivos.ipynb\n",
      "14/10/2019  05:37             7.295 main.ipynb\n",
      "13/09/2019  16:22            11.636 pandas.ipynb\n",
      "25/09/2019  07:43             6.192 processamentoMath.ipynb\n",
      "22/09/2019  14:48            69.897 scipy.ipynb\n",
      "13/10/2019  17:45            29.845 sklearn.ipynb\n",
      "              12 arquivo(s)        198.846 bytes\n",
      "               4 pasta(s)   230.575.177.728 bytes dispon¡veis\n"
     ]
    }
   ],
   "source": [
    "%ls"
   ]
  },
  {
   "cell_type": "code",
   "execution_count": 5,
   "metadata": {},
   "outputs": [
    {
     "name": "stderr",
     "output_type": "stream",
     "text": [
      "A sintaxe do comando est  incorreta.\n"
     ]
    }
   ],
   "source": [
    "%mkdir"
   ]
  }
 ],
 "metadata": {
  "celltoolbar": "Slideshow",
  "kernelspec": {
   "display_name": "Python 3",
   "language": "python",
   "name": "python3"
  },
  "language_info": {
   "codemirror_mode": {
    "name": "ipython",
    "version": 3
   },
   "file_extension": ".py",
   "mimetype": "text/x-python",
   "name": "python",
   "nbconvert_exporter": "python",
   "pygments_lexer": "ipython3",
   "version": "3.7.3"
  }
 },
 "nbformat": 4,
 "nbformat_minor": 4
}
