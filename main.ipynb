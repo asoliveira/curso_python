{
 "cells": [
  {
   "cell_type": "markdown",
   "metadata": {
    "slideshow": {
     "slide_type": "slide"
    }
   },
   "source": [
    "Cronograma\n",
    "----------\n",
    "**01 ) Primeiro dia**\n",
    "* [Ambiente de desenvolvimento](#sec_ambienteDesenvolvimento)\n",
    "* [Tipos de estruturas de dados](./estruturas_dados.ipynb)\n",
    "* [Lendo e escrevendo em arquivos](./lendo_arquivos.ipynb)\n",
    "* [Tratamento de erros](./erros.ipynb)\n",
    "* [Mapeamento Objeto Relacional](./functions_oo.ipynb)\n",
    "\n",
    "\n",
    "**02) Segundo dia**\n",
    "* [Algumas bibliotecas importantes para Data Science](./bibliotecasImportantes.ipynb)\n",
    "* [Processamento matemático e científico](./processamentoMath.ipynb)\n",
    "\n",
    "**03) Terceiro dia**\n",
    "* [Um olha especial sobre as funcionalidades do Pandas](./pandas.ipynb)\n",
    "* [Acesso a banco de dados e olhando mais algumas funcionalidades do Pandas](./bancodedados.ipynb)\n",
    "\n",
    "\n",
    "**04) Quarto dia**\n",
    "* [Introdução a aprendizagem de máquina em Python - Parte 01](./sklearn.ipynb)\n",
    "* [Introdução a aprendizagem de máquina em Python - Parte 02](./sklearn.ipynb)\n",
    "\n",
    "\n",
    "<a id='introduction'></a>"
   ]
  },
  {
   "cell_type": "markdown",
   "metadata": {
    "slideshow": {
     "slide_type": "slide"
    }
   },
   "source": [
    "Material\n",
    "--------\n",
    "\n",
    "Material disponibilizado em <https://github.com/asoliveira/curso_python.git>. Como obter?\n",
    "\n",
    "* Opção 1. nstale o git no seu computador e clone o repositório https://github.com/asoliveira/curso_python.git\n",
    "\n",
    "1. Abra o menu *iniciar*;\n",
    "2. Digite *anaconda*;\n",
    "3. Selecione o *Anaconda Prompt*;\n",
    "2. Digite <code>conda install git</code>\n",
    "\n",
    "* <code> git clone https://github.com/asoliveira/curso_python.git </code>\n",
    "\n",
    "\n",
    "* Opção 2. No endereço https://github.com/asoliveira/curso_python.git faça o download dos arquivos zipados.\n",
    "\n",
    "\n",
    "\n",
    "Dicas de locais para estudar:\n",
    "* <a id='https://www.youtube.com/user/cursosemvideo'>https://www.youtube.com/user/cursosemvideo</a>\n",
    "* <a id='https://www.geeksforgeeks.org/'>https://www.geeksforgeeks.org/</a>\n",
    "* <a id='https://docs.python.org/3/tutorial/'>https://docs.python.org/3/tutorial/</a> \n",
    "* <a id='https://realpython.com'> https://realpython.com/ </a>\n",
    "* <a id='https://www.w3schools.com/python/python_intro.asp'>https://www.w3schools.com/python/python_intro.asp</a>\n",
    "\n",
    "\n",
    "*Alex Sandro Oliveira* \n",
    "\n",
    "*T5FJ*"
   ]
  },
  {
   "cell_type": "markdown",
   "metadata": {
    "slideshow": {
     "slide_type": "subslide"
    }
   },
   "source": [
    "<a id='sec_ambienteDesenvolvimento'>Ambiente de Desenvolvimento</a>\n",
    "===========================\n",
    "\n",
    "+ O próprio Idle do Python\n",
    "+ O prompt de comando Python e Ipython\n",
    "+ O vscode <a href='https://code.visualstudio.com/docs/getstarted/introvideos'> https://code.visualstudio.com/docs/getstarted/introvideos</a>\n",
    "\n",
    "+ O Jupyter \n",
    "    - <a href='https://jupyter-notebook.readthedocs.io/en/stable/index.html'>https://jupyter-notebook.readthedocs.io/en/stable/index.html</a>\n",
    "    - <a href='https://ipython.readthedocs.io/en/stable/interactive/magics.html'> https://ipython.readthedocs.io/en/stable/interactive/magics.html </a>\n",
    "\n",
    "\n",
    "O jupyter tem Markdown\n",
    "<a href=\"https://www.markdownguide.org/basic-syntax/\"> https://www.markdownguide.org/basic-syntax/</a>\n",
    "+ Kaggle, Google Colab ..."
   ]
  },
  {
   "cell_type": "code",
   "execution_count": null,
   "metadata": {},
   "outputs": [],
   "source": []
  },
  {
   "cell_type": "code",
   "execution_count": 23,
   "metadata": {},
   "outputs": [
    {
     "name": "stdout",
     "output_type": "stream",
     "text": [
      "2.28 ms ± 8.07 µs per loop (mean ± std. dev. of 7 runs, 100 loops each)\n"
     ]
    }
   ],
   "source": [
    "%%timeit\n",
    "import pandas as pd\n",
    "df = pd.read_csv('Dados/vendas_utf8.csv')"
   ]
  },
  {
   "cell_type": "code",
   "execution_count": 24,
   "metadata": {},
   "outputs": [
    {
     "name": "stdout",
     "output_type": "stream",
     "text": [
      "Hello World!\n"
     ]
    },
    {
     "data": {
      "text/plain": [
       "<Figure size 432x288 with 0 Axes>"
      ]
     },
     "metadata": {},
     "output_type": "display_data"
    }
   ],
   "source": [
    "%run hello.py"
   ]
  },
  {
   "cell_type": "code",
   "execution_count": 28,
   "metadata": {},
   "outputs": [],
   "source": [
    "%load_ext autoreload\n",
    "%autoreload 2 \n",
    "\n"
   ]
  },
  {
   "cell_type": "code",
   "execution_count": 29,
   "metadata": {},
   "outputs": [
    {
     "name": "stdout",
     "output_type": "stream",
     "text": [
      " O volume na unidade F nÆo tem nome.\n",
      " O N£mero de S‚rie do Volume ‚ FFC5-98E7\n",
      "\n",
      " Pasta de F:\\DataScience\n",
      "\n",
      "12/08/2019  09:38    <DIR>          .\n",
      "12/08/2019  09:38    <DIR>          ..\n",
      "11/09/2019  16:43    <DIR>          .ipynb_checkpoints\n",
      "25/09/2019  07:43             1.264 bancodedados.ipynb\n",
      "11/09/2019  16:44            63.659 Curso Introdu‡Æo … Python para an lise de dados.pdf\n",
      "06/10/2019  19:58    <DIR>          Dados\n",
      "06/10/2019  19:49            27.499 erros.ipynb\n",
      "13/10/2019  20:42            24.130 estruturas_dados.ipynb\n",
      "14/09/2019  14:28             5.489 filename.joblib\n",
      "06/10/2019  19:49             5.742 functions_oo.ipynb\n",
      "13/10/2019  18:55                21 hello.py\n",
      "07/10/2019  06:41             9.590 lendo_arquivos.ipynb\n",
      "14/10/2019  05:31            20.248 main.ipynb\n",
      "13/10/2019  17:46           282.430 main.slides.html\n",
      "13/10/2019  17:19        74.969.224 OBS-Studio-24.0.3-Full-Installer-x64.exe\n",
      "13/09/2019  16:22            11.636 pandas.ipynb\n",
      "09/10/2019  15:59             1.557 perceptron.py\n",
      "12/08/2019  09:39           111.722 Portal Petrobras.pdf\n",
      "25/09/2019  07:43             6.192 processamentoMath.ipynb\n",
      "22/09/2019  14:48            69.897 scipy.ipynb\n",
      "13/10/2019  17:45            29.845 sklearn.ipynb\n",
      "07/10/2019  04:55           191.634 Untitled.ipynb\n",
      "09/10/2019  15:52                 0 untitled.txt\n",
      "07/10/2019  05:58                15 workfile\n",
      "              20 arquivo(s)     75.831.794 bytes\n",
      "               4 pasta(s)   230.659.194.880 bytes dispon¡veis\n"
     ]
    }
   ],
   "source": [
    "%ls"
   ]
  },
  {
   "cell_type": "code",
   "execution_count": 27,
   "metadata": {},
   "outputs": [
    {
     "name": "stderr",
     "output_type": "stream",
     "text": [
      "A sintaxe do comando est  incorreta.\n"
     ]
    }
   ],
   "source": [
    "%mkdir"
   ]
  }
 ],
 "metadata": {
  "celltoolbar": "Slideshow",
  "kernelspec": {
   "display_name": "Python 3",
   "language": "python",
   "name": "python3"
  },
  "language_info": {
   "codemirror_mode": {
    "name": "ipython",
    "version": 3
   },
   "file_extension": ".py",
   "mimetype": "text/x-python",
   "name": "python",
   "nbconvert_exporter": "python",
   "pygments_lexer": "ipython3",
   "version": "3.7.3"
  }
 },
 "nbformat": 4,
 "nbformat_minor": 4
}
