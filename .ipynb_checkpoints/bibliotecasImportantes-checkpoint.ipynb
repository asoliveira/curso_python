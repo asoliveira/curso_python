{
 "cells": [
  {
   "cell_type": "code",
   "execution_count": 1,
   "metadata": {},
   "outputs": [
    {
     "data": {
      "text/plain": [
       "['F:\\\\Workspace\\\\CursoPython',\n",
       " 'C:\\\\Users\\\\alex_\\\\Anaconda3\\\\python37.zip',\n",
       " 'C:\\\\Users\\\\alex_\\\\Anaconda3\\\\DLLs',\n",
       " 'C:\\\\Users\\\\alex_\\\\Anaconda3\\\\lib',\n",
       " 'C:\\\\Users\\\\alex_\\\\Anaconda3',\n",
       " '',\n",
       " 'C:\\\\Users\\\\alex_\\\\Anaconda3\\\\lib\\\\site-packages',\n",
       " 'C:\\\\Users\\\\alex_\\\\Anaconda3\\\\lib\\\\site-packages\\\\win32',\n",
       " 'C:\\\\Users\\\\alex_\\\\Anaconda3\\\\lib\\\\site-packages\\\\win32\\\\lib',\n",
       " 'C:\\\\Users\\\\alex_\\\\Anaconda3\\\\lib\\\\site-packages\\\\Pythonwin',\n",
       " 'C:\\\\Users\\\\alex_\\\\Anaconda3\\\\lib\\\\site-packages\\\\IPython\\\\extensions',\n",
       " 'C:\\\\Users\\\\alex_\\\\.ipython',\n",
       " 'D:\\\\petroanalisedados-master\\\\petroanalisedados-master\\\\script',\n",
       " 'script']"
      ]
     },
     "execution_count": 1,
     "metadata": {},
     "output_type": "execute_result"
    }
   ],
   "source": [
    "# Estas são as bibliotecas mais comumente importadas.\n",
    "import numpy as np\n",
    "import scipy as sp\n",
    "import pandas as pd\n",
    "import matplotlib.pyplot as plt\n",
    "\n",
    "# O trecho de código abaixo coloca a minha pasta de scripts no caminhos de arquivos que o python importa. Ou seja, com o código abaixo consigo importar códigos que eu criei\n",
    "import sys\n",
    "sys.path.append(\"D:\\\\petroanalisedados-master\\\\petroanalisedados-master\\\\script\")\n",
    "sys.path.append(\"script\")\n",
    "sys.path"
   ]
  },
  {
   "cell_type": "markdown",
   "metadata": {},
   "source": [
    "### Um breve resumo sobre pacotes importantes no processamento científico\n",
    "\n",
    "Vamos testar alguma funcionalidades de pacotes importantes.\n",
    "\n",
    "* numpy <a href='https://numpy.org'>https://numpy.org</a>\n",
    "* pandas <a href='https://pandas.pydata.org/'>https://pandas.pydata.org</a>\n",
    "* matpllotlib <a href='https://matplotlib.org/'>https://matplotlib.org</a>\n",
    "\n",
    "Sumário\n",
    "\n",
    "* [numpy](#sec_numpy)\n",
    "* [pandas](#sec_pandas)\n",
    "* [matplotlib](#sec_matplot)\n"
   ]
  },
  {
   "cell_type": "markdown",
   "metadata": {},
   "source": [
    "## <a id='sec_numpy'>numpy</a>\n",
    "\n",
    "#### Motivação para o numpy\n",
    "Abaixo uma motivação sobre a necessidade da biblioteca numpy para efetuarmos cáculos numéricos.\n",
    "\n",
    "A ideia é perceber que as listas não são um bom substituto para vetores e matrizes porque elas não conseguem efetuar as operações matriciais de maneira nativa"
   ]
  },
  {
   "cell_type": "code",
   "execution_count": 2,
   "metadata": {},
   "outputs": [
    {
     "data": {
      "text/plain": [
       "[0, 1, 2, 3, 4]"
      ]
     },
     "execution_count": 2,
     "metadata": {},
     "output_type": "execute_result"
    }
   ],
   "source": [
    "a = list(range(5))\n",
    "a"
   ]
  },
  {
   "cell_type": "code",
   "execution_count": 3,
   "metadata": {},
   "outputs": [
    {
     "data": {
      "text/plain": [
       "[0, 2, 4, 6, 8]"
      ]
     },
     "execution_count": 3,
     "metadata": {},
     "output_type": "execute_result"
    }
   ],
   "source": [
    "b = list(range(0, 10, 2))\n",
    "b"
   ]
  },
  {
   "cell_type": "code",
   "execution_count": 4,
   "metadata": {},
   "outputs": [
    {
     "data": {
      "text/plain": [
       "[0, 1, 2, 3, 4, 0, 2, 4, 6, 8]"
      ]
     },
     "execution_count": 4,
     "metadata": {},
     "output_type": "execute_result"
    }
   ],
   "source": [
    "# A soma de lista não produz um resultado parecido com a soma de vetores\n",
    "a + b"
   ]
  },
  {
   "cell_type": "code",
   "execution_count": 5,
   "metadata": {},
   "outputs": [
    {
     "data": {
      "text/plain": [
       "array([ 0.,  3.,  6.,  9., 12.])"
      ]
     },
     "execution_count": 5,
     "metadata": {},
     "output_type": "execute_result"
    }
   ],
   "source": [
    "# Quando tentamos realizar a operação de soma de vetores com o numpy o resultado é como o esperado.\n",
    "a = np.array(a, dtype=int)\n",
    "b = np.array(b, dtype=float)\n",
    "\n",
    "a + b"
   ]
  },
  {
   "cell_type": "markdown",
   "metadata": {},
   "source": [
    "Outras funcionalidades do NUMPY"
   ]
  },
  {
   "cell_type": "code",
   "execution_count": 6,
   "metadata": {},
   "outputs": [
    {
     "data": {
      "text/plain": [
       "(5,)"
      ]
     },
     "execution_count": 6,
     "metadata": {},
     "output_type": "execute_result"
    }
   ],
   "source": [
    "a.shape"
   ]
  },
  {
   "cell_type": "code",
   "execution_count": 7,
   "metadata": {},
   "outputs": [
    {
     "data": {
      "text/plain": [
       "1"
      ]
     },
     "execution_count": 7,
     "metadata": {},
     "output_type": "execute_result"
    }
   ],
   "source": [
    "a.ndim"
   ]
  },
  {
   "cell_type": "markdown",
   "metadata": {},
   "source": [
    "##### E para o produto de matrizes? como realizar?"
   ]
  },
  {
   "cell_type": "code",
   "execution_count": 8,
   "metadata": {},
   "outputs": [
    {
     "name": "stdout",
     "output_type": "stream",
     "text": [
      "O tipo de dados deste dataframe é: float64\n",
      "O formato desta matriz é: (2, 2)\n"
     ]
    },
    {
     "data": {
      "text/plain": [
       "array([[1., 0.],\n",
       "       [0., 1.]])"
      ]
     },
     "execution_count": 8,
     "metadata": {},
     "output_type": "execute_result"
    }
   ],
   "source": [
    "# A função np.eye é interessante para criarmos uma matriz identidade\n",
    "i = np.eye(2)\n",
    "print('O tipo de dados deste dataframe é: {}'.format(i.dtype))\n",
    "print('O formato desta matriz é: {}'.format(i.shape))\n",
    "i"
   ]
  },
  {
   "cell_type": "code",
   "execution_count": 9,
   "metadata": {},
   "outputs": [
    {
     "name": "stdout",
     "output_type": "stream",
     "text": [
      "O tipo de dados deste dataframe é: int32\n",
      "O formato desta matriz é: (2, 2)\n"
     ]
    },
    {
     "data": {
      "text/plain": [
       "array([[2, 2],\n",
       "       [2, 2]])"
      ]
     },
     "execution_count": 9,
     "metadata": {},
     "output_type": "execute_result"
    }
   ],
   "source": [
    "# a função np.full é uma boa funcionalidade quando queremos criar um dataframe de dados iguais\n",
    "b = np.full((2,2), 2)\n",
    "print('O tipo de dados deste dataframe é: {}'.format(b.dtype))\n",
    "print('O formato desta matriz é: {}'.format(b.shape))\n",
    "b\n"
   ]
  },
  {
   "cell_type": "code",
   "execution_count": 10,
   "metadata": {},
   "outputs": [
    {
     "data": {
      "text/plain": [
       "array([[1., 0.],\n",
       "       [2., 1.]])"
      ]
     },
     "execution_count": 10,
     "metadata": {},
     "output_type": "execute_result"
    }
   ],
   "source": [
    "# Vamos modificar o valor de um elemento de i\n",
    "i[1, 0] = 2\n",
    "i"
   ]
  },
  {
   "cell_type": "markdown",
   "metadata": {},
   "source": [
    "#### Multiplicação de matrizes\n",
    "\n",
    "Vamos verificar como é realizada a multiplicação de matrizes. O objetivo é conseguir realizar uma multiplicação como a descrita abaixo:\n",
    "\n",
    "$$\\begin{bmatrix}\n",
    "a_{11} & a_{12}\\\\\n",
    "a_{21} & a_{22}\n",
    "\\end{bmatrix}\n",
    "\\times\n",
    "\\begin{bmatrix}\n",
    "b_{11} & b_{12}\\\\\n",
    "b_{21} & b_{22}\n",
    "\\end{bmatrix}\n",
    "=\n",
    "\\begin{bmatrix}\n",
    "a_{11}b_{11} + a_{12}b_{21} & a_{11}b_{12} + a_{12}b_{22}\\\\\n",
    "a_{21}b_{11} + a_{22}b_{21} & a_{21}b_{12} + a_{22}b_{22}\\\\\n",
    "\\end{bmatrix}\n",
    "$$"
   ]
  },
  {
   "cell_type": "code",
   "execution_count": 11,
   "metadata": {},
   "outputs": [
    {
     "data": {
      "text/plain": [
       "array([[2., 0.],\n",
       "       [4., 2.]])"
      ]
     },
     "execution_count": 11,
     "metadata": {},
     "output_type": "execute_result"
    }
   ],
   "source": [
    "# O resultado não é uma multiplicação de matrizes\n",
    "i * b"
   ]
  },
  {
   "cell_type": "code",
   "execution_count": 12,
   "metadata": {},
   "outputs": [
    {
     "data": {
      "text/plain": [
       "array([[2., 2.],\n",
       "       [6., 6.]])"
      ]
     },
     "execution_count": 12,
     "metadata": {},
     "output_type": "execute_result"
    }
   ],
   "source": [
    "# Aqui eu consegui um produto de matrizes\n",
    "i.dot(b)"
   ]
  },
  {
   "cell_type": "markdown",
   "metadata": {},
   "source": [
    "### <a id='sec_pandas'>Sobre o pandas</a>\n",
    "\n",
    "o nosso goal é utilizarmos a função que criamos e salvamos em um pasta chamada scripts para lermos o arquivos de dados e posteriormente plotarmos as principais características dos dados.\n",
    "\n",
    "Passos lógicos:\n",
    "1. Ler o arquivo\n",
    "2. Criar um pandas daframe com estes arquivos\n",
    "3. plotar as principais características.\n"
   ]
  },
  {
   "cell_type": "code",
   "execution_count": 13,
   "metadata": {},
   "outputs": [
    {
     "name": "stdout",
     "output_type": "stream",
     "text": [
      "Abaixo a lista de diretórios no path:\n",
      "\t F:\\Workspace\\CursoPython\n",
      "\t C:\\Users\\alex_\\Anaconda3\\python37.zip\n",
      "\t C:\\Users\\alex_\\Anaconda3\\DLLs\n",
      "\t C:\\Users\\alex_\\Anaconda3\\lib\n",
      "\t C:\\Users\\alex_\\Anaconda3\n",
      "\t \n",
      "\t C:\\Users\\alex_\\Anaconda3\\lib\\site-packages\n",
      "\t C:\\Users\\alex_\\Anaconda3\\lib\\site-packages\\win32\n",
      "\t C:\\Users\\alex_\\Anaconda3\\lib\\site-packages\\win32\\lib\n",
      "\t C:\\Users\\alex_\\Anaconda3\\lib\\site-packages\\Pythonwin\n",
      "\t C:\\Users\\alex_\\Anaconda3\\lib\\site-packages\\IPython\\extensions\n",
      "\t C:\\Users\\alex_\\.ipython\n",
      "\t D:\\petroanalisedados-master\\petroanalisedados-master\\script\n",
      "\t script\n"
     ]
    }
   ],
   "source": [
    "# Verificando se a pasta scripts está no path\n",
    "print('Abaixo a lista de diretórios no path:')\n",
    "for diretorio in sys.path:\n",
    "    print('\\t {}'.format(diretorio))"
   ]
  },
  {
   "cell_type": "code",
   "execution_count": 14,
   "metadata": {},
   "outputs": [
    {
     "data": {
      "text/plain": [
       "dict_keys(['CENTRO OESTE', 'NORDESTE', 'NORTE', 'SUDESTE', 'SUL'])"
      ]
     },
     "execution_count": 14,
     "metadata": {},
     "output_type": "execute_result"
    }
   ],
   "source": [
    "# importando a minha funçao e lendo o arquivo\n",
    "from leitor_arq import *\n",
    "vendas = ler_arquivo('Dados/vendas_.csv')\n",
    "vendas.keys()"
   ]
  },
  {
   "cell_type": "code",
   "execution_count": 15,
   "metadata": {},
   "outputs": [
    {
     "data": {
      "text/plain": [
       "CENTRO OESTE    object\n",
       "NORDESTE        object\n",
       "NORTE           object\n",
       "SUDESTE         object\n",
       "SUL             object\n",
       "dtype: object"
      ]
     },
     "execution_count": 15,
     "metadata": {},
     "output_type": "execute_result"
    }
   ],
   "source": [
    "# transformando o dicionário da regiao 'regiao' em um dataframe\n",
    "regiao = 'CENTRO OESTE'\n",
    "\n",
    "vendas = ler_arquivo('Dados/vendas_.csv')\n",
    "df = pd.DataFrame(vendas[regiao])\n",
    "\n",
    "#Eu preciso transformar o meu dataframe para possuir somente tipos numéricos e não 'object'.\n",
    "df.dtypes\n",
    "\n"
   ]
  },
  {
   "cell_type": "code",
   "execution_count": 16,
   "metadata": {},
   "outputs": [],
   "source": [
    "# A função abaixo devolve um dataframe como o anterior porém com colunas numéricas, porém as colunas precisam ser \"transformáveis\", caso contrário receberei um erro.\n",
    "# df.astype(float)"
   ]
  },
  {
   "cell_type": "code",
   "execution_count": 17,
   "metadata": {},
   "outputs": [
    {
     "name": "stdout",
     "output_type": "stream",
     "text": [
      "CENTRO OESTE    object\n",
      "NORDESTE        object\n",
      "NORTE           object\n",
      "SUDESTE         object\n",
      "SUL             object\n",
      "dtype: object\n"
     ]
    },
    {
     "data": {
      "text/html": [
       "<div>\n",
       "<style scoped>\n",
       "    .dataframe tbody tr th:only-of-type {\n",
       "        vertical-align: middle;\n",
       "    }\n",
       "\n",
       "    .dataframe tbody tr th {\n",
       "        vertical-align: top;\n",
       "    }\n",
       "\n",
       "    .dataframe thead th {\n",
       "        text-align: right;\n",
       "    }\n",
       "</style>\n",
       "<table border=\"1\" class=\"dataframe\">\n",
       "  <thead>\n",
       "    <tr style=\"text-align: right;\">\n",
       "      <th></th>\n",
       "      <th>CENTRO OESTE</th>\n",
       "      <th>NORDESTE</th>\n",
       "      <th>NORTE</th>\n",
       "      <th>SUDESTE</th>\n",
       "      <th>SUL</th>\n",
       "    </tr>\n",
       "  </thead>\n",
       "  <tbody>\n",
       "    <tr>\n",
       "      <th>0</th>\n",
       "      <td>61.979</td>\n",
       "      <td>28.821</td>\n",
       "      <td>38.556</td>\n",
       "      <td>42.797</td>\n",
       "      <td>281</td>\n",
       "    </tr>\n",
       "    <tr>\n",
       "      <th>1</th>\n",
       "      <td>66.918</td>\n",
       "      <td>23.281</td>\n",
       "      <td>36.426</td>\n",
       "      <td>41.823</td>\n",
       "      <td></td>\n",
       "    </tr>\n",
       "    <tr>\n",
       "      <th>2</th>\n",
       "      <td>70.762</td>\n",
       "      <td>38.553</td>\n",
       "      <td>35.293</td>\n",
       "      <td>48.488</td>\n",
       "      <td>2.751</td>\n",
       "    </tr>\n",
       "    <tr>\n",
       "      <th>3</th>\n",
       "      <td>68.578</td>\n",
       "      <td>36.371</td>\n",
       "      <td>33.101</td>\n",
       "      <td>55.317</td>\n",
       "      <td>2.103</td>\n",
       "    </tr>\n",
       "    <tr>\n",
       "      <th>4</th>\n",
       "      <td>67.648</td>\n",
       "      <td>25.463</td>\n",
       "      <td>29.327</td>\n",
       "      <td>54.847</td>\n",
       "      <td>1.641</td>\n",
       "    </tr>\n",
       "  </tbody>\n",
       "</table>\n",
       "</div>"
      ],
      "text/plain": [
       "  CENTRO OESTE NORDESTE   NORTE SUDESTE    SUL\n",
       "0       61.979   28.821  38.556  42.797    281\n",
       "1       66.918   23.281  36.426  41.823       \n",
       "2       70.762   38.553  35.293  48.488  2.751\n",
       "3       68.578   36.371  33.101  55.317  2.103\n",
       "4       67.648   25.463  29.327  54.847  1.641"
      ]
     },
     "execution_count": 17,
     "metadata": {},
     "output_type": "execute_result"
    }
   ],
   "source": [
    "# Abaixo segue um método de tratar os meus dados para tornar o meu dataframe para colunas numéricas\n",
    "\n",
    "def sub(x):\n",
    "    try:\n",
    "        if not x.replace('.', '').isnumeric() :\n",
    "            return np.nan\n",
    "        return x\n",
    "    except AttributeError:\n",
    "        return x\n",
    "    finally:\n",
    "        return x\n",
    "\n",
    "for x in df.columns:\n",
    "    df[x] = df[x].apply(sub)\n",
    "    \n",
    "# df = df.astype(float)\n",
    "\n",
    "print(df.dtypes)\n",
    "\n",
    "df.head()"
   ]
  },
  {
   "cell_type": "code",
   "execution_count": 18,
   "metadata": {},
   "outputs": [
    {
     "name": "stdout",
     "output_type": "stream",
     "text": [
      "CENTRO OESTE    float64\n",
      "NORDESTE        float64\n",
      "NORTE           float64\n",
      "SUDESTE         float64\n",
      "SUL             float64\n",
      "dtype: object\n"
     ]
    },
    {
     "data": {
      "text/html": [
       "<div>\n",
       "<style scoped>\n",
       "    .dataframe tbody tr th:only-of-type {\n",
       "        vertical-align: middle;\n",
       "    }\n",
       "\n",
       "    .dataframe tbody tr th {\n",
       "        vertical-align: top;\n",
       "    }\n",
       "\n",
       "    .dataframe thead th {\n",
       "        text-align: right;\n",
       "    }\n",
       "</style>\n",
       "<table border=\"1\" class=\"dataframe\">\n",
       "  <thead>\n",
       "    <tr style=\"text-align: right;\">\n",
       "      <th></th>\n",
       "      <th>CENTRO OESTE</th>\n",
       "      <th>NORDESTE</th>\n",
       "      <th>NORTE</th>\n",
       "      <th>SUDESTE</th>\n",
       "      <th>SUL</th>\n",
       "    </tr>\n",
       "  </thead>\n",
       "  <tbody>\n",
       "    <tr>\n",
       "      <th>0</th>\n",
       "      <td>61.979</td>\n",
       "      <td>28.821</td>\n",
       "      <td>38.556</td>\n",
       "      <td>42.797</td>\n",
       "      <td>281.000</td>\n",
       "    </tr>\n",
       "    <tr>\n",
       "      <th>1</th>\n",
       "      <td>66.918</td>\n",
       "      <td>23.281</td>\n",
       "      <td>36.426</td>\n",
       "      <td>41.823</td>\n",
       "      <td>NaN</td>\n",
       "    </tr>\n",
       "    <tr>\n",
       "      <th>2</th>\n",
       "      <td>70.762</td>\n",
       "      <td>38.553</td>\n",
       "      <td>35.293</td>\n",
       "      <td>48.488</td>\n",
       "      <td>2.751</td>\n",
       "    </tr>\n",
       "    <tr>\n",
       "      <th>3</th>\n",
       "      <td>68.578</td>\n",
       "      <td>36.371</td>\n",
       "      <td>33.101</td>\n",
       "      <td>55.317</td>\n",
       "      <td>2.103</td>\n",
       "    </tr>\n",
       "    <tr>\n",
       "      <th>4</th>\n",
       "      <td>67.648</td>\n",
       "      <td>25.463</td>\n",
       "      <td>29.327</td>\n",
       "      <td>54.847</td>\n",
       "      <td>1.641</td>\n",
       "    </tr>\n",
       "  </tbody>\n",
       "</table>\n",
       "</div>"
      ],
      "text/plain": [
       "   CENTRO OESTE  NORDESTE   NORTE  SUDESTE      SUL\n",
       "0        61.979    28.821  38.556   42.797  281.000\n",
       "1        66.918    23.281  36.426   41.823      NaN\n",
       "2        70.762    38.553  35.293   48.488    2.751\n",
       "3        68.578    36.371  33.101   55.317    2.103\n",
       "4        67.648    25.463  29.327   54.847    1.641"
      ]
     },
     "execution_count": 18,
     "metadata": {},
     "output_type": "execute_result"
    }
   ],
   "source": [
    "# Uma abordagem mais inteligente. Obrigado ao colega que apresentou a possibilidade na aula.\n",
    "for c in df.columns:\n",
    "    df[c] = pd.to_numeric(df[c])\n",
    "\n",
    "df = df.astype(float)\n",
    "\n",
    "print(df.dtypes)\n",
    "df.head()\n"
   ]
  },
  {
   "cell_type": "markdown",
   "metadata": {},
   "source": [
    "#### <a id='sec_matplot'>Matplotlib</a>\n",
    "\n",
    "\n",
    "O matplotlib é a biblioteca utilizada para plotarmos dados.\n",
    "\n",
    "Abaixo vamos estudar por meio de um exercício de como é efetivada esta integração.\n",
    "\n",
    "Lembre que o matplotlib está sendo chamado por **plt** como definido na primeira célula."
   ]
  },
  {
   "cell_type": "markdown",
   "metadata": {},
   "source": [
    "Para plotar um dataframe, basta chamar a função plot. que trabalha em segundo plano com o *matplotlib*."
   ]
  },
  {
   "cell_type": "code",
   "execution_count": 19,
   "metadata": {},
   "outputs": [
    {
     "data": {
      "text/plain": [
       "'Centro Oeste'"
      ]
     },
     "execution_count": 19,
     "metadata": {},
     "output_type": "execute_result"
    }
   ],
   "source": [
    "regiao.title()"
   ]
  },
  {
   "cell_type": "code",
   "execution_count": 20,
   "metadata": {},
   "outputs": [
    {
     "data": {
      "text/plain": [
       "[Text(0, 0, 'Jan'),\n",
       " Text(0, 0, 'Fev'),\n",
       " Text(0, 0, 'Mar'),\n",
       " Text(0, 0, 'Abr'),\n",
       " Text(0, 0, 'Mai'),\n",
       " Text(0, 0, 'Jun'),\n",
       " Text(0, 0, 'Jul'),\n",
       " Text(0, 0, 'Agos')]"
      ]
     },
     "execution_count": 20,
     "metadata": {},
     "output_type": "execute_result"
    },
    {
     "data": {
      "image/png": "[encoded data removed]",
      "text/plain": [
       "<Figure size 864x576 with 1 Axes>"
      ]
     },
     "metadata": {
      "needs_background": "light"
     },
     "output_type": "display_data"
    }
   ],
   "source": [
    "ax = df.plot(kind='bar', alpha=0.65, figsize=(12,8))\n",
    "ax.set_title('Dados de venda de biodiesel na região {}'.format(regiao.title()), size=16) #lembra que defini a varíavel regiao em outra célula\n",
    "ax.set_ylabel('Vendas em metros cúbicos', size=16)\n",
    "\n",
    "# Aqui eu estou forçando o valor do label do x, porque a função que lê os dados não dar a informação dos meses. Resolveremos isto depois.\n",
    "ax.set_xticklabels(['Jan', 'Fev', 'Mar', 'Abr', 'Mai', 'Jun', 'Jul', 'Agos'], rotation=0, size=14)"
   ]
  },
  {
   "cell_type": "markdown",
   "metadata": {},
   "source": [
    "Quando analisamos os dados na prática em muitos momentos é interessante termos um quadro de como os dados são e assim conseguir algum insight.\n",
    "\n",
    "Este quadro que vamos tentar criar abaixo."
   ]
  },
  {
   "cell_type": "code",
   "execution_count": 21,
   "metadata": {},
   "outputs": [],
   "source": [
    "# Vou nomear a minha indexação porque quando eu realizar o plot ficará mais fácil para tornar o gráfico inteligível.\n",
    "df.index = ['Jan', 'Fev', 'Mar', 'Abr', 'Mai', 'Jun', 'Jul', 'Ago']"
   ]
  },
  {
   "cell_type": "code",
   "execution_count": 22,
   "metadata": {},
   "outputs": [
    {
     "data": {
      "text/plain": [
       "<matplotlib.axes._subplots.AxesSubplot at 0x1d6dcd97e80>"
      ]
     },
     "execution_count": 22,
     "metadata": {},
     "output_type": "execute_result"
    },
    {
     "data": {
      "image/png": "[encoded data removed]",
      "text/plain": [
       "<Figure size 1440x864 with 6 Axes>"
      ]
     },
     "metadata": {
      "needs_background": "light"
     },
     "output_type": "display_data"
    }
   ],
   "source": [
    "# Quando \n",
    "f, ax = plt.subplots(2, 3, figsize=(20,12), tight_layout=True)\n",
    "\n",
    "# Gráfico 0, 0\n",
    "df.plot(kind='bar', alpha=0.65, ax= ax[0, 0])\n",
    "# ax[0, 0].set_title('Dados de venda de biodiesel na região {}'.format(regiao.title()), size=16) #lembra que defini a varíavel regiao em outra célula\n",
    "ax[0, 0].set_ylabel('Vendas em metros cúbicos')\n",
    "\n",
    "# Gráfico 0, 1\n",
    "df.plot(kind='box',  ax= ax[0, 1])\n",
    "xticklabels = ax[0, 1].get_xticklabels()\n",
    "ax[0, 1].set_xticklabels(xticklabels, rotation=45) \n",
    "\n",
    "# Gráfico 0, 2\n",
    "df.diff().plot(kind='bar', alpha=0.65, ax= ax[0, 2])\n",
    "# xticklabels = ax[0, 2].get_xticklabels()\n",
    "# ax[0, 2].set_xticklabels(xticklabels, rotation=45)\n",
    "ax[0, 2].set_ylim(0, 20)\n",
    "ax[0, 2].set_title('Diferença em relação ao mê anterior')\n",
    "\n",
    "# Gráfico 1, 0\n",
    "df.pct_change().plot(kind='bar', alpha=0.65, ax= ax[1, 0])\n",
    "ax[1, 0].set_ylim(0, 1)\n",
    "ax[1, 0].set_title('Variacao percentual')\n",
    "\n",
    "\n",
    "# Gráfico 1, 0\n",
    "df.pct_change().plot(kind='bar', alpha=0.65, ax= ax[1, 0])\n",
    "ax[1, 0].set_ylim(0, 1)\n",
    "ax[1, 0].set_title('Variacao percentual')\n",
    "\n",
    "# Gráfico 1, 1\n",
    "regiaoA = 'NORDESTE'\n",
    "regiaoB = 'NORTE'\n",
    "df.pct_change().plot(x= regiaoA, y=regiaoB, kind='scatter', alpha=0.65, ax= ax[1, 1])\n",
    "\n",
    "\n",
    "# Gráfico 1, 2\n",
    "regiaoA = 'NORDESTE'\n",
    "regiaoB = 'SUDESTE'\n",
    "df.pct_change().plot(x= regiaoA, y=regiaoB, kind='scatter', alpha=0.65, ax= ax[1, 2])\n",
    "\n"
   ]
  },
  {
   "cell_type": "markdown",
   "metadata": {},
   "source": [
    "#### Exercício do dia\n",
    "\n",
    "Criar uma função que receba o dataframe df e automáticamente crie a gráfico acima"
   ]
  },
  {
   "cell_type": "code",
   "execution_count": 23,
   "metadata": {},
   "outputs": [],
   "source": [
    "def analise_dados(df):\n",
    "    \"\"\"\n",
    "    recebe o df e transformar em gráficos.\n",
    "    \"\"\"\n",
    "    \n",
    "#     Tratar o dataframe\n",
    "\n",
    "\n",
    "# Criar a figuras    \n",
    "    f, ax = plt.subplots(2, 3, figsize=(8,8))\n",
    "    \n",
    "#     plotar em cada axes uma coluna do dataframe\n",
    "    \n",
    "    return f, ax\n",
    "    "
   ]
  }
 ],
 "metadata": {
  "kernelspec": {
   "display_name": "Python 3",
   "language": "python",
   "name": "python3"
  },
  "language_info": {
   "codemirror_mode": {
    "name": "ipython",
    "version": 3
   },
   "file_extension": ".py",
   "mimetype": "text/x-python",
   "name": "python",
   "nbconvert_exporter": "python",
   "pygments_lexer": "ipython3",
   "version": "3.7.3"
  }
 },
 "nbformat": 4,
 "nbformat_minor": 4
}
