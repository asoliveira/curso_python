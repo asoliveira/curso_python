{
 "cells": [
  {
   "cell_type": "markdown",
   "metadata": {},
   "source": [
    "[Funções](#sec_funcoes)\n",
    "-------\n",
    "\n",
    "\n",
    "Classes\n",
    "--------"
   ]
  },
  {
   "cell_type": "markdown",
   "metadata": {},
   "source": [
    "<a id='sec_funcoes'>Funções</a>\n",
    "    \n",
    "    $y = f(x)$\n",
    "    \n",
    "    * [Exercício](#exercicio)\n",
    " \n",
    "    Quando não passamos parêmtros a função assume o valor default com o valor default"
   ]
  },
  {
   "cell_type": "code",
   "execution_count": 7,
   "metadata": {},
   "outputs": [
    {
     "data": {
      "text/plain": [
       "4"
      ]
     },
     "execution_count": 7,
     "metadata": {},
     "output_type": "execute_result"
    }
   ],
   "source": [
    "def Soma(para, parb):\n",
    "    return para + parb\n",
    "    \n",
    "Soma(2, 2)    "
   ]
  },
  {
   "cell_type": "code",
   "execution_count": 2,
   "metadata": {},
   "outputs": [],
   "source": [
    "def sayIamHappy(name):\n",
    "    print('{} is happy'.format(name))"
   ]
  },
  {
   "cell_type": "code",
   "execution_count": 3,
   "metadata": {},
   "outputs": [
    {
     "name": "stdout",
     "output_type": "stream",
     "text": [
      "Alex is happy\n"
     ]
    }
   ],
   "source": [
    "sayIamHappy('Alex')"
   ]
  },
  {
   "cell_type": "code",
   "execution_count": 5,
   "metadata": {},
   "outputs": [
    {
     "name": "stdout",
     "output_type": "stream",
     "text": [
      "Samuel is happy\n"
     ]
    }
   ],
   "source": [
    "def sayIamHappy2(name='Samuel'):\n",
    "    print('{} is happy'.format(name))\n",
    "    \n",
    "sayIamHappy2()    "
   ]
  },
  {
   "cell_type": "code",
   "execution_count": 2,
   "metadata": {},
   "outputs": [
    {
     "name": "stdout",
     "output_type": "stream",
     "text": [
      "classe base\n"
     ]
    }
   ],
   "source": [
    "class Base:\n",
    "    def __init__(self, nome, cor):\n",
    "        \n",
    "        self.nome = nome\n",
    "        self.cor = cor\n",
    "\n",
    "cls = Base('classe base', 'azul')        \n",
    "\n",
    "print(cls.nome)"
   ]
  },
  {
   "cell_type": "markdown",
   "metadata": {},
   "source": [
    "Herança\n",
    "-------\n",
    "\n",
    "* Escopo"
   ]
  },
  {
   "cell_type": "code",
   "execution_count": 13,
   "metadata": {},
   "outputs": [
    {
     "data": {
      "text/plain": [
       "104322552"
      ]
     },
     "execution_count": 13,
     "metadata": {},
     "output_type": "execute_result"
    }
   ],
   "source": [
    "class Cheiro(Base):\n",
    "    def __init__(self, nome, cor, cheiro):\n",
    "        Base.__init__(self, nome, cor)\n",
    "        self.cheiro = cheiro\n",
    "\n",
    "clsb = Cheiro('classe filho', 'azul', 'flores')        \n",
    "\n",
    "id(clsb)"
   ]
  },
  {
   "cell_type": "code",
   "execution_count": 4,
   "metadata": {},
   "outputs": [
    {
     "data": {
      "text/plain": [
       "<__main__.Cheiro at 0x6698c50>"
      ]
     },
     "execution_count": 4,
     "metadata": {},
     "output_type": "execute_result"
    }
   ],
   "source": [
    "clsb"
   ]
  },
  {
   "cell_type": "code",
   "execution_count": 15,
   "metadata": {},
   "outputs": [
    {
     "name": "stdout",
     "output_type": "stream",
     "text": [
      "classe filho\n",
      "flores\n"
     ]
    }
   ],
   "source": [
    "print(clsb.nome)\n",
    "print(clsb.cheiro)"
   ]
  },
  {
   "cell_type": "markdown",
   "metadata": {},
   "source": [
    "<a id='exercicio'> Exercícios</a>\n",
    "-----------------"
   ]
  },
  {
   "cell_type": "markdown",
   "metadata": {},
   "source": [
    "Valor Presente Líquido\n",
    "----------------------\n",
    "\n",
    "A fórmula da *valor presente líquido é*:\n",
    "\n",
    "O valor presente líquido para fluxos de caixa uniformes, pode ser calculado por meio da seguinte fórmula:\n",
    "\n",
    "$$VPL=\\sum _{t=1}^{n} \\frac{FC_t}{(1 + i)^t}$$\n",
    "\n",
    "Onde:\n",
    "\n",
    "- $FC$ é o fluxo de caixa no período $_{t}$;\n",
    "- $_{t}$ é o enésimo período no tempo em que o dinheiro será investido no projeto (começa no período 1, quando há efetivamente o primeiro fluxo de dinheiro);\n",
    "- $n$ é o número de períodos;\n",
    " - i é o custo do capital.\n",
    "\n",
    "\n",
    "Na página do <a href=https://pt.wikipedia.org/wiki/Valor_presente_l%C3%ADquido>Wikipedia</a> existe o exemplo abaixo. \n",
    "\n",
    "*A corporação X deve decidir se irá introduzir novo produto no mercado consumidor, ao qual haverá custos de elaboração, divulgação, operacionais, e fluxos de caixa entrantes durante 6 anos. Este projeto terá uma saída de caixa imediata de $\\$ \\ 125.000,00$, sendo este o tempo $0 \\ (zero)_{t}=0$, que pode incluir as máquinas, equipamentos, custos de treinamento de empregados,etc. Outras saídas de caixa são esperadas do 1º ao 6º ano no valor de $\\$ \\ 25.000$ em cada ano. As entradas de caixa esperam-se que sejam de $\\$ \\ 60.000$ ao ano. Todos os fluxos de caixa são após pagamento de impostos, e não há fluxo de caixa esperado após o sexto ano. A TMA é de 12% ao ano.*\n",
    "\n",
    "\n",
    "**Crie um função para calcular o valor presente**\n"
   ]
  }
 ],
 "metadata": {
  "kernelspec": {
   "display_name": "Python 3",
   "language": "python",
   "name": "python3"
  },
  "language_info": {
   "codemirror_mode": {
    "name": "ipython",
    "version": 3
   },
   "file_extension": ".py",
   "mimetype": "text/x-python",
   "name": "python",
   "nbconvert_exporter": "python",
   "pygments_lexer": "ipython3",
   "version": "3.7.3"
  }
 },
 "nbformat": 4,
 "nbformat_minor": 4
}
