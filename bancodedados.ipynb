{
 "cells": [
  {
   "cell_type": "markdown",
   "metadata": {},
   "source": [
    "## Banco de dados\n",
    "\n",
    "O Python possui um suporte nativo para o banco de dados **sqlite** por meio da biblioteca **sqlite3**.\n",
    "\n",
    "Para utilizar este notebook será necessário o banco de dados **fakePrices.db**.\n",
    "Para criar o banco de *fakePrices.db* execute o script em Python **mddb.py**  no diretório **scipt**. Você pode fazer isso executando o arquivo dentro do spyder o por linha de comando no cmd do *Windows*.\n",
    "\n",
    "No cmd do Windows(o prompt do cmd precisa estar dentro do diretório *script*):\n",
    "\n",
    "<code>python mddb.py</code>\n",
    "\n",
    "\n",
    "\n",
    "Para entender como funciona a linguagem SQL:\n",
    "<a href='https://www.sqlite.org/lang_select.html'> https://www.sqlite.org/lang_select.html</a>"
   ]
  },
  {
   "cell_type": "code",
   "execution_count": 1,
   "metadata": {},
   "outputs": [],
   "source": [
    "import sqlite3\n",
    "import pandas as pd\n",
    "import matplotlib.pyplot as plt"
   ]
  },
  {
   "cell_type": "code",
   "execution_count": 2,
   "metadata": {},
   "outputs": [
    {
     "data": {
      "text/plain": [
       "[('2019-08-27 14:34:46', 19.7, '14:34:46'),\n",
       " ('2019-08-27 14:35:46', 18.14, '14:35:46'),\n",
       " ('2019-08-27 14:36:46', 19.84, '14:36:46'),\n",
       " ('2019-08-27 14:37:46', 16.53, '14:37:46'),\n",
       " ('2019-08-27 14:38:46', 17.63, '14:38:46')]"
      ]
     },
     "execution_count": 2,
     "metadata": {},
     "output_type": "execute_result"
    }
   ],
   "source": [
    "# Executando uma query no banco de dados sem o pacote pandas\n",
    "db = 'Dados/fakePrices.db'\n",
    "tabela = 'ABCB4'\n",
    "\n",
    "\n",
    "con = sqlite3.connect(db)\n",
    "\n",
    "c = con.cursor()\n",
    "\n",
    "query = 'SELECT * FROM {}'.format(tabela)\n",
    "\n",
    "c.execute(query)\n",
    "resultado_query = c.fetchall()\n",
    "resultado_query[:5]"
   ]
  },
  {
   "cell_type": "markdown",
   "metadata": {},
   "source": [
    "#### Lendo os banco de dados utilizando o Pandas\n",
    "\n",
    "\n",
    "Notar que o pandas não precisa de *cursor*."
   ]
  },
  {
   "cell_type": "code",
   "execution_count": 3,
   "metadata": {},
   "outputs": [
    {
     "data": {
      "text/html": [
       "<div>\n",
       "<style scoped>\n",
       "    .dataframe tbody tr th:only-of-type {\n",
       "        vertical-align: middle;\n",
       "    }\n",
       "\n",
       "    .dataframe tbody tr th {\n",
       "        vertical-align: top;\n",
       "    }\n",
       "\n",
       "    .dataframe thead th {\n",
       "        text-align: right;\n",
       "    }\n",
       "</style>\n",
       "<table border=\"1\" class=\"dataframe\">\n",
       "  <thead>\n",
       "    <tr style=\"text-align: right;\">\n",
       "      <th></th>\n",
       "      <th>date</th>\n",
       "      <th>ultimo</th>\n",
       "      <th>hora</th>\n",
       "    </tr>\n",
       "  </thead>\n",
       "  <tbody>\n",
       "    <tr>\n",
       "      <th>0</th>\n",
       "      <td>2019-08-27 14:34:46</td>\n",
       "      <td>19.70</td>\n",
       "      <td>14:34:46</td>\n",
       "    </tr>\n",
       "    <tr>\n",
       "      <th>1</th>\n",
       "      <td>2019-08-27 14:35:46</td>\n",
       "      <td>18.14</td>\n",
       "      <td>14:35:46</td>\n",
       "    </tr>\n",
       "    <tr>\n",
       "      <th>2</th>\n",
       "      <td>2019-08-27 14:36:46</td>\n",
       "      <td>19.84</td>\n",
       "      <td>14:36:46</td>\n",
       "    </tr>\n",
       "    <tr>\n",
       "      <th>3</th>\n",
       "      <td>2019-08-27 14:37:46</td>\n",
       "      <td>16.53</td>\n",
       "      <td>14:37:46</td>\n",
       "    </tr>\n",
       "    <tr>\n",
       "      <th>4</th>\n",
       "      <td>2019-08-27 14:38:46</td>\n",
       "      <td>17.63</td>\n",
       "      <td>14:38:46</td>\n",
       "    </tr>\n",
       "  </tbody>\n",
       "</table>\n",
       "</div>"
      ],
      "text/plain": [
       "                  date  ultimo      hora\n",
       "0  2019-08-27 14:34:46   19.70  14:34:46\n",
       "1  2019-08-27 14:35:46   18.14  14:35:46\n",
       "2  2019-08-27 14:36:46   19.84  14:36:46\n",
       "3  2019-08-27 14:37:46   16.53  14:37:46\n",
       "4  2019-08-27 14:38:46   17.63  14:38:46"
      ]
     },
     "execution_count": 3,
     "metadata": {},
     "output_type": "execute_result"
    }
   ],
   "source": [
    "db = 'Dados/fakePrices.db'\n",
    "tabela = 'ABCB4'\n",
    "query = 'SELECT * FROM {}'.format(tabela)\n",
    "\n",
    "con = sqlite3.connect(db)\n",
    "dfa = pd.read_sql(query, con)\n",
    "dfa.head()"
   ]
  },
  {
   "cell_type": "code",
   "execution_count": 4,
   "metadata": {},
   "outputs": [
    {
     "data": {
      "text/plain": [
       "<matplotlib.axes._subplots.AxesSubplot at 0x1a8438b1ba8>"
      ]
     },
     "execution_count": 4,
     "metadata": {},
     "output_type": "execute_result"
    },
    {
     "data": {
      "image/png": "[encoded data removed]",
      "text/plain": [
       "<Figure size 432x288 with 1 Axes>"
      ]
     },
     "metadata": {
      "needs_background": "light"
     },
     "output_type": "display_data"
    }
   ],
   "source": [
    "dfa.plot(x='date', y='ultimo', style='o-')"
   ]
  },
  {
   "cell_type": "markdown",
   "metadata": {},
   "source": [
    "Uma consulta mais elaborada"
   ]
  },
  {
   "cell_type": "code",
   "execution_count": 5,
   "metadata": {},
   "outputs": [
    {
     "data": {
      "text/html": [
       "<div>\n",
       "<style scoped>\n",
       "    .dataframe tbody tr th:only-of-type {\n",
       "        vertical-align: middle;\n",
       "    }\n",
       "\n",
       "    .dataframe tbody tr th {\n",
       "        vertical-align: top;\n",
       "    }\n",
       "\n",
       "    .dataframe thead th {\n",
       "        text-align: right;\n",
       "    }\n",
       "</style>\n",
       "<table border=\"1\" class=\"dataframe\">\n",
       "  <thead>\n",
       "    <tr style=\"text-align: right;\">\n",
       "      <th></th>\n",
       "      <th>date</th>\n",
       "      <th>ultimo</th>\n",
       "      <th>hora</th>\n",
       "    </tr>\n",
       "  </thead>\n",
       "  <tbody>\n",
       "    <tr>\n",
       "      <th>0</th>\n",
       "      <td>2019-08-27 14:34:46</td>\n",
       "      <td>19.70</td>\n",
       "      <td>14:34:46</td>\n",
       "    </tr>\n",
       "    <tr>\n",
       "      <th>1</th>\n",
       "      <td>2019-08-27 14:35:46</td>\n",
       "      <td>18.14</td>\n",
       "      <td>14:35:46</td>\n",
       "    </tr>\n",
       "    <tr>\n",
       "      <th>2</th>\n",
       "      <td>2019-08-27 14:36:46</td>\n",
       "      <td>19.84</td>\n",
       "      <td>14:36:46</td>\n",
       "    </tr>\n",
       "    <tr>\n",
       "      <th>3</th>\n",
       "      <td>2019-08-27 14:37:46</td>\n",
       "      <td>16.53</td>\n",
       "      <td>14:37:46</td>\n",
       "    </tr>\n",
       "    <tr>\n",
       "      <th>4</th>\n",
       "      <td>2019-08-27 14:38:46</td>\n",
       "      <td>17.63</td>\n",
       "      <td>14:38:46</td>\n",
       "    </tr>\n",
       "  </tbody>\n",
       "</table>\n",
       "</div>"
      ],
      "text/plain": [
       "                  date  ultimo      hora\n",
       "0  2019-08-27 14:34:46   19.70  14:34:46\n",
       "1  2019-08-27 14:35:46   18.14  14:35:46\n",
       "2  2019-08-27 14:36:46   19.84  14:36:46\n",
       "3  2019-08-27 14:37:46   16.53  14:37:46\n",
       "4  2019-08-27 14:38:46   17.63  14:38:46"
      ]
     },
     "execution_count": 5,
     "metadata": {},
     "output_type": "execute_result"
    }
   ],
   "source": [
    "db = 'Dados/fakePrices.db'\n",
    "tabela = 'ABCB4'\n",
    "query = 'SELECT * FROM {}'.format(tabela)\n",
    "\n",
    "con = sqlite3.connect(db)\n",
    "dfa = pd.read_sql(query, con, parse_dates=True)\n",
    "dfa.head()"
   ]
  },
  {
   "cell_type": "code",
   "execution_count": 6,
   "metadata": {},
   "outputs": [
    {
     "data": {
      "text/plain": [
       "<matplotlib.axes._subplots.AxesSubplot at 0x1a843bea550>"
      ]
     },
     "execution_count": 6,
     "metadata": {},
     "output_type": "execute_result"
    },
    {
     "data": {
      "image/png": "[encoded data removed]",
      "text/plain": [
       "<Figure size 432x288 with 1 Axes>"
      ]
     },
     "metadata": {
      "needs_background": "light"
     },
     "output_type": "display_data"
    }
   ],
   "source": [
    "dfa.plot(x='date', y='ultimo', style='o-')"
   ]
  },
  {
   "cell_type": "code",
   "execution_count": 7,
   "metadata": {},
   "outputs": [
    {
     "data": {
      "text/html": [
       "<div>\n",
       "<style scoped>\n",
       "    .dataframe tbody tr th:only-of-type {\n",
       "        vertical-align: middle;\n",
       "    }\n",
       "\n",
       "    .dataframe tbody tr th {\n",
       "        vertical-align: top;\n",
       "    }\n",
       "\n",
       "    .dataframe thead th {\n",
       "        text-align: right;\n",
       "    }\n",
       "</style>\n",
       "<table border=\"1\" class=\"dataframe\">\n",
       "  <thead>\n",
       "    <tr style=\"text-align: right;\">\n",
       "      <th></th>\n",
       "      <th>ultimo</th>\n",
       "      <th>hora</th>\n",
       "    </tr>\n",
       "    <tr>\n",
       "      <th>date</th>\n",
       "      <th></th>\n",
       "      <th></th>\n",
       "    </tr>\n",
       "  </thead>\n",
       "  <tbody>\n",
       "    <tr>\n",
       "      <th>2019-08-27 14:34:46</th>\n",
       "      <td>19.70</td>\n",
       "      <td>14:34:46</td>\n",
       "    </tr>\n",
       "    <tr>\n",
       "      <th>2019-08-27 14:35:46</th>\n",
       "      <td>18.14</td>\n",
       "      <td>14:35:46</td>\n",
       "    </tr>\n",
       "    <tr>\n",
       "      <th>2019-08-27 14:36:46</th>\n",
       "      <td>19.84</td>\n",
       "      <td>14:36:46</td>\n",
       "    </tr>\n",
       "    <tr>\n",
       "      <th>2019-08-27 14:37:46</th>\n",
       "      <td>16.53</td>\n",
       "      <td>14:37:46</td>\n",
       "    </tr>\n",
       "    <tr>\n",
       "      <th>2019-08-27 14:38:46</th>\n",
       "      <td>17.63</td>\n",
       "      <td>14:38:46</td>\n",
       "    </tr>\n",
       "  </tbody>\n",
       "</table>\n",
       "</div>"
      ],
      "text/plain": [
       "                     ultimo      hora\n",
       "date                                 \n",
       "2019-08-27 14:34:46   19.70  14:34:46\n",
       "2019-08-27 14:35:46   18.14  14:35:46\n",
       "2019-08-27 14:36:46   19.84  14:36:46\n",
       "2019-08-27 14:37:46   16.53  14:37:46\n",
       "2019-08-27 14:38:46   17.63  14:38:46"
      ]
     },
     "execution_count": 7,
     "metadata": {},
     "output_type": "execute_result"
    }
   ],
   "source": [
    "db = 'Dados/fakePrices.db'\n",
    "tabela = 'ABCB4'\n",
    "query = 'SELECT * FROM {}'.format(tabela)\n",
    "\n",
    "con = sqlite3.connect(db)\n",
    "dfa = pd.read_sql(query, con, parse_dates=['date'], index_col='date')\n",
    "dfa.head()"
   ]
  },
  {
   "cell_type": "code",
   "execution_count": 8,
   "metadata": {},
   "outputs": [
    {
     "data": {
      "text/html": [
       "<div>\n",
       "<style scoped>\n",
       "    .dataframe tbody tr th:only-of-type {\n",
       "        vertical-align: middle;\n",
       "    }\n",
       "\n",
       "    .dataframe tbody tr th {\n",
       "        vertical-align: top;\n",
       "    }\n",
       "\n",
       "    .dataframe thead th {\n",
       "        text-align: right;\n",
       "    }\n",
       "</style>\n",
       "<table border=\"1\" class=\"dataframe\">\n",
       "  <thead>\n",
       "    <tr style=\"text-align: right;\">\n",
       "      <th></th>\n",
       "      <th>ultimo</th>\n",
       "      <th>hora</th>\n",
       "    </tr>\n",
       "    <tr>\n",
       "      <th>date</th>\n",
       "      <th></th>\n",
       "      <th></th>\n",
       "    </tr>\n",
       "  </thead>\n",
       "  <tbody>\n",
       "    <tr>\n",
       "      <th>2019-08-27 14:34:46</th>\n",
       "      <td>19.70</td>\n",
       "      <td>14:34:46</td>\n",
       "    </tr>\n",
       "    <tr>\n",
       "      <th>2019-08-27 14:35:46</th>\n",
       "      <td>18.14</td>\n",
       "      <td>14:35:46</td>\n",
       "    </tr>\n",
       "    <tr>\n",
       "      <th>2019-08-27 14:36:46</th>\n",
       "      <td>19.84</td>\n",
       "      <td>14:36:46</td>\n",
       "    </tr>\n",
       "    <tr>\n",
       "      <th>2019-08-27 14:37:46</th>\n",
       "      <td>16.53</td>\n",
       "      <td>14:37:46</td>\n",
       "    </tr>\n",
       "    <tr>\n",
       "      <th>2019-08-27 14:38:46</th>\n",
       "      <td>17.63</td>\n",
       "      <td>14:38:46</td>\n",
       "    </tr>\n",
       "  </tbody>\n",
       "</table>\n",
       "</div>"
      ],
      "text/plain": [
       "                     ultimo      hora\n",
       "date                                 \n",
       "2019-08-27 14:34:46   19.70  14:34:46\n",
       "2019-08-27 14:35:46   18.14  14:35:46\n",
       "2019-08-27 14:36:46   19.84  14:36:46\n",
       "2019-08-27 14:37:46   16.53  14:37:46\n",
       "2019-08-27 14:38:46   17.63  14:38:46"
      ]
     },
     "execution_count": 8,
     "metadata": {},
     "output_type": "execute_result"
    }
   ],
   "source": [
    "dfa['2019-08-27 14:00'<= dfa.index].head()"
   ]
  },
  {
   "cell_type": "code",
   "execution_count": 9,
   "metadata": {},
   "outputs": [
    {
     "data": {
      "text/html": [
       "<div>\n",
       "<style scoped>\n",
       "    .dataframe tbody tr th:only-of-type {\n",
       "        vertical-align: middle;\n",
       "    }\n",
       "\n",
       "    .dataframe tbody tr th {\n",
       "        vertical-align: top;\n",
       "    }\n",
       "\n",
       "    .dataframe thead th {\n",
       "        text-align: right;\n",
       "    }\n",
       "</style>\n",
       "<table border=\"1\" class=\"dataframe\">\n",
       "  <thead>\n",
       "    <tr style=\"text-align: right;\">\n",
       "      <th></th>\n",
       "      <th>ultimo</th>\n",
       "      <th>hora</th>\n",
       "    </tr>\n",
       "    <tr>\n",
       "      <th>date</th>\n",
       "      <th></th>\n",
       "      <th></th>\n",
       "    </tr>\n",
       "  </thead>\n",
       "  <tbody>\n",
       "    <tr>\n",
       "      <th>2019-08-27 14:34:46</th>\n",
       "      <td>19.70</td>\n",
       "      <td>14:34:46</td>\n",
       "    </tr>\n",
       "    <tr>\n",
       "      <th>2019-08-27 14:36:46</th>\n",
       "      <td>19.84</td>\n",
       "      <td>14:36:46</td>\n",
       "    </tr>\n",
       "    <tr>\n",
       "      <th>2019-08-27 14:40:46</th>\n",
       "      <td>19.03</td>\n",
       "      <td>14:40:46</td>\n",
       "    </tr>\n",
       "    <tr>\n",
       "      <th>2019-08-27 14:44:47</th>\n",
       "      <td>19.23</td>\n",
       "      <td>14:44:47</td>\n",
       "    </tr>\n",
       "    <tr>\n",
       "      <th>2019-08-27 14:49:47</th>\n",
       "      <td>19.12</td>\n",
       "      <td>14:49:47</td>\n",
       "    </tr>\n",
       "    <tr>\n",
       "      <th>2019-08-27 14:51:47</th>\n",
       "      <td>19.61</td>\n",
       "      <td>14:51:47</td>\n",
       "    </tr>\n",
       "    <tr>\n",
       "      <th>2019-08-27 14:56:47</th>\n",
       "      <td>19.24</td>\n",
       "      <td>14:56:47</td>\n",
       "    </tr>\n",
       "    <tr>\n",
       "      <th>2019-08-27 15:09:48</th>\n",
       "      <td>19.05</td>\n",
       "      <td>15:09:48</td>\n",
       "    </tr>\n",
       "    <tr>\n",
       "      <th>2019-08-27 15:11:48</th>\n",
       "      <td>19.47</td>\n",
       "      <td>15:11:48</td>\n",
       "    </tr>\n",
       "    <tr>\n",
       "      <th>2019-08-27 15:12:48</th>\n",
       "      <td>19.15</td>\n",
       "      <td>15:12:48</td>\n",
       "    </tr>\n",
       "    <tr>\n",
       "      <th>2019-08-27 15:17:48</th>\n",
       "      <td>20.10</td>\n",
       "      <td>15:17:48</td>\n",
       "    </tr>\n",
       "  </tbody>\n",
       "</table>\n",
       "</div>"
      ],
      "text/plain": [
       "                     ultimo      hora\n",
       "date                                 \n",
       "2019-08-27 14:34:46   19.70  14:34:46\n",
       "2019-08-27 14:36:46   19.84  14:36:46\n",
       "2019-08-27 14:40:46   19.03  14:40:46\n",
       "2019-08-27 14:44:47   19.23  14:44:47\n",
       "2019-08-27 14:49:47   19.12  14:49:47\n",
       "2019-08-27 14:51:47   19.61  14:51:47\n",
       "2019-08-27 14:56:47   19.24  14:56:47\n",
       "2019-08-27 15:09:48   19.05  15:09:48\n",
       "2019-08-27 15:11:48   19.47  15:11:48\n",
       "2019-08-27 15:12:48   19.15  15:12:48\n",
       "2019-08-27 15:17:48   20.10  15:17:48"
      ]
     },
     "execution_count": 9,
     "metadata": {},
     "output_type": "execute_result"
    }
   ],
   "source": [
    "dfa[dfa.ultimo>=19]"
   ]
  },
  {
   "cell_type": "code",
   "execution_count": 10,
   "metadata": {},
   "outputs": [
    {
     "data": {
      "text/plain": [
       "<matplotlib.axes._subplots.AxesSubplot at 0x1a843cbfc18>"
      ]
     },
     "execution_count": 10,
     "metadata": {},
     "output_type": "execute_result"
    },
    {
     "data": {
      "image/png": "[encoded data removed]",
      "text/plain": [
       "<Figure size 432x288 with 1 Axes>"
      ]
     },
     "metadata": {
      "needs_background": "light"
     },
     "output_type": "display_data"
    }
   ],
   "source": [
    "dfa.plot(y='ultimo', style='o--')"
   ]
  },
  {
   "cell_type": "code",
   "execution_count": 11,
   "metadata": {},
   "outputs": [
    {
     "data": {
      "image/png": "[encoded data removed]",
      "text/plain": [
       "<Figure size 432x432 with 1 Axes>"
      ]
     },
     "metadata": {
      "needs_background": "light"
     },
     "output_type": "display_data"
    }
   ],
   "source": [
    "f, ax = plt.subplots(1, 1, figsize=(6, 6))\n",
    "# dfa.rolling('5min').median().plot(style ='y-o', ax=ax)\n",
    "# dfa.rolling('5min').max().plot(style ='r^-', ax=ax)\n",
    "# dfa.rolling('5min').min().plot(style ='b--o', ax=ax)\n",
    "\n"
   ]
  },
  {
   "cell_type": "code",
   "execution_count": 12,
   "metadata": {},
   "outputs": [
    {
     "data": {
      "text/html": [
       "<div>\n",
       "<style scoped>\n",
       "    .dataframe tbody tr th:only-of-type {\n",
       "        vertical-align: middle;\n",
       "    }\n",
       "\n",
       "    .dataframe tbody tr th {\n",
       "        vertical-align: top;\n",
       "    }\n",
       "\n",
       "    .dataframe thead th {\n",
       "        text-align: right;\n",
       "    }\n",
       "</style>\n",
       "<table border=\"1\" class=\"dataframe\">\n",
       "  <thead>\n",
       "    <tr style=\"text-align: right;\">\n",
       "      <th></th>\n",
       "      <th>ultimo</th>\n",
       "    </tr>\n",
       "  </thead>\n",
       "  <tbody>\n",
       "    <tr>\n",
       "      <th>count</th>\n",
       "      <td>44.000000</td>\n",
       "    </tr>\n",
       "    <tr>\n",
       "      <th>mean</th>\n",
       "      <td>18.047727</td>\n",
       "    </tr>\n",
       "    <tr>\n",
       "      <th>std</th>\n",
       "      <td>1.113264</td>\n",
       "    </tr>\n",
       "    <tr>\n",
       "      <th>min</th>\n",
       "      <td>15.500000</td>\n",
       "    </tr>\n",
       "    <tr>\n",
       "      <th>25%</th>\n",
       "      <td>17.130000</td>\n",
       "    </tr>\n",
       "    <tr>\n",
       "      <th>50%</th>\n",
       "      <td>18.160000</td>\n",
       "    </tr>\n",
       "    <tr>\n",
       "      <th>75%</th>\n",
       "      <td>18.985000</td>\n",
       "    </tr>\n",
       "    <tr>\n",
       "      <th>max</th>\n",
       "      <td>20.100000</td>\n",
       "    </tr>\n",
       "  </tbody>\n",
       "</table>\n",
       "</div>"
      ],
      "text/plain": [
       "          ultimo\n",
       "count  44.000000\n",
       "mean   18.047727\n",
       "std     1.113264\n",
       "min    15.500000\n",
       "25%    17.130000\n",
       "50%    18.160000\n",
       "75%    18.985000\n",
       "max    20.100000"
      ]
     },
     "execution_count": 12,
     "metadata": {},
     "output_type": "execute_result"
    }
   ],
   "source": [
    "dfa.describe()"
   ]
  },
  {
   "cell_type": "code",
   "execution_count": 13,
   "metadata": {},
   "outputs": [
    {
     "data": {
      "text/plain": [
       "<matplotlib.axes._subplots.AxesSubplot at 0x1a843dc3f60>"
      ]
     },
     "execution_count": 13,
     "metadata": {},
     "output_type": "execute_result"
    },
    {
     "data": {
      "image/png": "[encoded data removed]",
      "text/plain": [
       "<Figure size 432x288 with 1 Axes>"
      ]
     },
     "metadata": {
      "needs_background": "light"
     },
     "output_type": "display_data"
    }
   ],
   "source": [
    "dfa['ultimo'].pct_change().plot(style='o--')"
   ]
  },
  {
   "cell_type": "code",
   "execution_count": 14,
   "metadata": {},
   "outputs": [
    {
     "data": {
      "text/plain": [
       "<matplotlib.axes._subplots.AxesSubplot at 0x1a843e530b8>"
      ]
     },
     "execution_count": 14,
     "metadata": {},
     "output_type": "execute_result"
    },
    {
     "data": {
      "image/png": "[encoded data removed]",
      "text/plain": [
       "<Figure size 432x288 with 1 Axes>"
      ]
     },
     "metadata": {
      "needs_background": "light"
     },
     "output_type": "display_data"
    }
   ],
   "source": [
    "dfa['ultimo'].pct_change().plot(kind='kde', style='o--')"
   ]
  },
  {
   "cell_type": "markdown",
   "metadata": {},
   "source": [
    "Vamos adicionar mais tabelas a este dataframe?"
   ]
  },
  {
   "cell_type": "code",
   "execution_count": 15,
   "metadata": {},
   "outputs": [
    {
     "data": {
      "text/html": [
       "<div>\n",
       "<style scoped>\n",
       "    .dataframe tbody tr th:only-of-type {\n",
       "        vertical-align: middle;\n",
       "    }\n",
       "\n",
       "    .dataframe tbody tr th {\n",
       "        vertical-align: top;\n",
       "    }\n",
       "\n",
       "    .dataframe thead th {\n",
       "        text-align: right;\n",
       "    }\n",
       "</style>\n",
       "<table border=\"1\" class=\"dataframe\">\n",
       "  <thead>\n",
       "    <tr style=\"text-align: right;\">\n",
       "      <th></th>\n",
       "      <th>ultimo</th>\n",
       "      <th>hora</th>\n",
       "    </tr>\n",
       "    <tr>\n",
       "      <th>date</th>\n",
       "      <th></th>\n",
       "      <th></th>\n",
       "    </tr>\n",
       "  </thead>\n",
       "  <tbody>\n",
       "    <tr>\n",
       "      <th>2019-08-27 14:34:46</th>\n",
       "      <td>19.61</td>\n",
       "      <td>14:34:46</td>\n",
       "    </tr>\n",
       "    <tr>\n",
       "      <th>2019-08-27 14:35:46</th>\n",
       "      <td>18.02</td>\n",
       "      <td>14:35:46</td>\n",
       "    </tr>\n",
       "    <tr>\n",
       "      <th>2019-08-27 14:36:46</th>\n",
       "      <td>18.04</td>\n",
       "      <td>14:36:46</td>\n",
       "    </tr>\n",
       "    <tr>\n",
       "      <th>2019-08-27 14:37:46</th>\n",
       "      <td>19.65</td>\n",
       "      <td>14:37:46</td>\n",
       "    </tr>\n",
       "    <tr>\n",
       "      <th>2019-08-27 14:38:46</th>\n",
       "      <td>19.53</td>\n",
       "      <td>14:38:46</td>\n",
       "    </tr>\n",
       "  </tbody>\n",
       "</table>\n",
       "</div>"
      ],
      "text/plain": [
       "                     ultimo      hora\n",
       "date                                 \n",
       "2019-08-27 14:34:46   19.61  14:34:46\n",
       "2019-08-27 14:35:46   18.02  14:35:46\n",
       "2019-08-27 14:36:46   18.04  14:36:46\n",
       "2019-08-27 14:37:46   19.65  14:37:46\n",
       "2019-08-27 14:38:46   19.53  14:38:46"
      ]
     },
     "execution_count": 15,
     "metadata": {},
     "output_type": "execute_result"
    }
   ],
   "source": [
    "db = 'Dados/fakePrices.db'\n",
    "tabela = 'ABEV3'\n",
    "query = 'SELECT * FROM {}'.format(tabela)\n",
    "\n",
    "con = sqlite3.connect(db)\n",
    "dfb = pd.read_sql(query, con, parse_dates=['date'], index_col='date')\n",
    "dfb.head()"
   ]
  },
  {
   "cell_type": "code",
   "execution_count": 16,
   "metadata": {},
   "outputs": [
    {
     "data": {
      "text/html": [
       "<div>\n",
       "<style scoped>\n",
       "    .dataframe tbody tr th:only-of-type {\n",
       "        vertical-align: middle;\n",
       "    }\n",
       "\n",
       "    .dataframe tbody tr th {\n",
       "        vertical-align: top;\n",
       "    }\n",
       "\n",
       "    .dataframe thead th {\n",
       "        text-align: right;\n",
       "    }\n",
       "</style>\n",
       "<table border=\"1\" class=\"dataframe\">\n",
       "  <thead>\n",
       "    <tr style=\"text-align: right;\">\n",
       "      <th></th>\n",
       "      <th>ABCB4</th>\n",
       "      <th>ABEV3</th>\n",
       "    </tr>\n",
       "    <tr>\n",
       "      <th>date</th>\n",
       "      <th></th>\n",
       "      <th></th>\n",
       "    </tr>\n",
       "  </thead>\n",
       "  <tbody>\n",
       "    <tr>\n",
       "      <th>2019-08-27 14:34:46</th>\n",
       "      <td>19.70</td>\n",
       "      <td>19.61</td>\n",
       "    </tr>\n",
       "    <tr>\n",
       "      <th>2019-08-27 14:35:46</th>\n",
       "      <td>18.14</td>\n",
       "      <td>18.02</td>\n",
       "    </tr>\n",
       "    <tr>\n",
       "      <th>2019-08-27 14:36:46</th>\n",
       "      <td>19.84</td>\n",
       "      <td>18.04</td>\n",
       "    </tr>\n",
       "    <tr>\n",
       "      <th>2019-08-27 14:37:46</th>\n",
       "      <td>16.53</td>\n",
       "      <td>19.65</td>\n",
       "    </tr>\n",
       "    <tr>\n",
       "      <th>2019-08-27 14:38:46</th>\n",
       "      <td>17.63</td>\n",
       "      <td>19.53</td>\n",
       "    </tr>\n",
       "  </tbody>\n",
       "</table>\n",
       "</div>"
      ],
      "text/plain": [
       "                     ABCB4  ABEV3\n",
       "date                             \n",
       "2019-08-27 14:34:46  19.70  19.61\n",
       "2019-08-27 14:35:46  18.14  18.02\n",
       "2019-08-27 14:36:46  19.84  18.04\n",
       "2019-08-27 14:37:46  16.53  19.65\n",
       "2019-08-27 14:38:46  17.63  19.53"
      ]
     },
     "execution_count": 16,
     "metadata": {},
     "output_type": "execute_result"
    }
   ],
   "source": [
    "df = pd.concat((dfa, dfb), axis=1)['ultimo']\n",
    "df.columns = ['ABCB4', 'ABEV3']\n",
    "df.head()"
   ]
  },
  {
   "cell_type": "code",
   "execution_count": 17,
   "metadata": {},
   "outputs": [
    {
     "data": {
      "text/plain": [
       "<matplotlib.axes._subplots.AxesSubplot at 0x1a845975cc0>"
      ]
     },
     "execution_count": 17,
     "metadata": {},
     "output_type": "execute_result"
    },
    {
     "data": {
      "image/png": "[encoded data removed]",
      "text/plain": [
       "<Figure size 432x288 with 1 Axes>"
      ]
     },
     "metadata": {
      "needs_background": "light"
     },
     "output_type": "display_data"
    }
   ],
   "source": [
    "df.pct_change().plot(x='ABEV3', y='ABCB4', kind='scatter')"
   ]
  },
  {
   "cell_type": "markdown",
   "metadata": {},
   "source": [
    "#### Aproveitando a oportunidade para apresentar mais um pacote para análises estatísticas..."
   ]
  },
  {
   "cell_type": "code",
   "execution_count": 18,
   "metadata": {},
   "outputs": [],
   "source": [
    "import statsmodels.api as sm\n",
    "import statsmodels.formula.api as smf\n",
    "\n",
    "\n"
   ]
  },
  {
   "cell_type": "code",
   "execution_count": 19,
   "metadata": {},
   "outputs": [
    {
     "name": "stdout",
     "output_type": "stream",
     "text": [
      "                            OLS Regression Results                            \n",
      "==============================================================================\n",
      "Dep. Variable:                  ABCB4   R-squared:                       0.007\n",
      "Model:                            OLS   Adj. R-squared:                 -0.017\n",
      "Method:                 Least Squares   F-statistic:                    0.2934\n",
      "Date:                Thu, 17 Oct 2019   Prob (F-statistic):              0.591\n",
      "Time:                        07:26:32   Log-Likelihood:                -66.495\n",
      "No. Observations:                  44   AIC:                             137.0\n",
      "Df Residuals:                      42   BIC:                             140.6\n",
      "Df Model:                           1                                         \n",
      "Covariance Type:            nonrobust                                         \n",
      "==============================================================================\n",
      "                 coef    std err          t      P>|t|      [0.025      0.975]\n",
      "------------------------------------------------------------------------------\n",
      "Intercept     16.7767      2.353      7.131      0.000      12.029      21.525\n",
      "ABEV3          0.0664      0.123      0.542      0.591      -0.181       0.314\n",
      "==============================================================================\n",
      "Omnibus:                        1.094   Durbin-Watson:                   2.165\n",
      "Prob(Omnibus):                  0.579   Jarque-Bera (JB):                1.088\n",
      "Skew:                          -0.255   Prob(JB):                        0.580\n",
      "Kurtosis:                       2.422   Cond. No.                         267.\n",
      "==============================================================================\n",
      "\n",
      "Warnings:\n",
      "[1] Standard Errors assume that the covariance matrix of the errors is correctly specified.\n"
     ]
    }
   ],
   "source": [
    "reg = smf.ols('ABCB4 ~ ABEV3', df).fit()\n",
    "print(reg.summary())"
   ]
  }
 ],
 "metadata": {
  "kernelspec": {
   "display_name": "Python 3",
   "language": "python",
   "name": "python3"
  },
  "language_info": {
   "codemirror_mode": {
    "name": "ipython",
    "version": 3
   },
   "file_extension": ".py",
   "mimetype": "text/x-python",
   "name": "python",
   "nbconvert_exporter": "python",
   "pygments_lexer": "ipython3",
   "version": "3.7.3"
  }
 },
 "nbformat": 4,
 "nbformat_minor": 4
}
