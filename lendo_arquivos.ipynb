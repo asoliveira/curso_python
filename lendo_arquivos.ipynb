{
 "cells": [
  {
   "cell_type": "markdown",
   "metadata": {},
   "source": [
    "Lendo arquivos\n",
    "--------------\n",
    "\n",
    "* [String](#section_string_format)\n",
    "* [Lendo arquivos](#section_rwfiles)\n",
    "\n",
    "Pacotes auxiliares:\n",
    "os \n",
    "sys"
   ]
  },
  {
   "cell_type": "markdown",
   "metadata": {},
   "source": [
    "Oproveitando a oportunidade\n",
    "\n",
    "\n",
    "<a id='section_string_format'>String format</a>\n",
    "-----------------------------\n",
    "\n",
    "'something writed {value} something writed'.format{value}"
   ]
  },
  {
   "cell_type": "code",
   "execution_count": null,
   "metadata": {},
   "outputs": [],
   "source": [
    "# Python3 program to demonstarte \n",
    "# the str.format() method \n",
    "  \n",
    "# using format option in a simple string \n",
    "print (\"{}, Treinamento de Python.\"\n",
    "                        .format(\"Petrobras\")) \n",
    "  \n",
    "# using format option for a \n",
    "# value stored in a variable \n",
    "str = \"This article is written in {}\"\n",
    "print (str.format(\"Python\")) \n",
    "  \n",
    "# formatting a string using a numeric constant \n",
    "print (\"Hello, I am {} years old !\".format(18))  "
   ]
  },
  {
   "cell_type": "code",
   "execution_count": null,
   "metadata": {},
   "outputs": [],
   "source": [
    "for x in range(1, 11):\n",
    "    print(repr(x).rjust(2), repr(x*x).rjust(3), end=' ')\n",
    "    # Note use of 'end' on previous line\n",
    "    print(repr(x*x*x).rjust(4))"
   ]
  },
  {
   "cell_type": "markdown",
   "metadata": {},
   "source": [
    "String format\n",
    "-------------\n",
    "\n",
    "Positional string"
   ]
  },
  {
   "cell_type": "markdown",
   "metadata": {},
   "source": [
    "Type Specifying\n",
    "---------------\n",
    "\n",
    "{fild_name: conversion}\n",
    "* s – strings\n",
    "* d – decimal integers (base-10)\n",
    "* f – floating point display\n",
    "* c – character\n",
    "* b – binary\n",
    "* o – octal\n",
    "* x – hexadecimal with lowercase letters after 9\n",
    "* X – hexadecimal with uppercase letters after 9\n",
    "* e – exponent notation\n",
    "\n",
    "\n",
    "\n",
    "Obrigado ao <a href=https://www.geeksforgeeks.org/python-format-function/>GreeksForGreeks </a>\n",
    "\n",
    "Na documentação veja <a href=https://docs.python.org/3/library/string.html#formatspec>formatspec</a>"
   ]
  },
  {
   "cell_type": "code",
   "execution_count": null,
   "metadata": {},
   "outputs": [],
   "source": [
    "print('Este é um teste {:s}'.format('especifico'))"
   ]
  },
  {
   "cell_type": "code",
   "execution_count": null,
   "metadata": {},
   "outputs": [],
   "source": [
    "print('Este é um teste {:c}'.format(102))"
   ]
  },
  {
   "cell_type": "code",
   "execution_count": null,
   "metadata": {},
   "outputs": [],
   "source": [
    "print('Este é um teste {:d}'.format(1002))"
   ]
  },
  {
   "cell_type": "code",
   "execution_count": null,
   "metadata": {},
   "outputs": [],
   "source": [
    "print('Este é um teste {0:d} {0:8d}'.format(1002))"
   ]
  },
  {
   "cell_type": "code",
   "execution_count": null,
   "metadata": {},
   "outputs": [],
   "source": [
    "print('Este é um teste {0:d} {0:X}'.format(1002))"
   ]
  },
  {
   "cell_type": "markdown",
   "metadata": {},
   "source": [
    "<a id='section_rwfiles'> Lendo Arquivos </a>\n",
    "--------------\n",
    "\n",
    "<a href='https://docs.python.org/3/tutorial/inputoutput.html#reading-and-writing-files'> https://docs.python.org/3/tutorial/inputoutput.html#reading-and-writing-files</a>"
   ]
  },
  {
   "cell_type": "code",
   "execution_count": 16,
   "metadata": {},
   "outputs": [],
   "source": [
    "f = open('workfile', 'w', encoding='utf8')\n"
   ]
  },
  {
   "cell_type": "code",
   "execution_count": 17,
   "metadata": {},
   "outputs": [
    {
     "data": {
      "text/plain": [
       "14"
      ]
     },
     "execution_count": 17,
     "metadata": {},
     "output_type": "execute_result"
    }
   ],
   "source": [
    "f.write('A vida é bela.')"
   ]
  },
  {
   "cell_type": "code",
   "execution_count": 15,
   "metadata": {},
   "outputs": [],
   "source": [
    "f.close()"
   ]
  },
  {
   "cell_type": "markdown",
   "metadata": {},
   "source": [
    "Estratégia para evitar que o programe mantenha o arquivo aberto quando ocorrerem erros, **with**."
   ]
  },
  {
   "cell_type": "code",
   "execution_count": null,
   "metadata": {},
   "outputs": [],
   "source": [
    "with open('workfile') as f:\n",
    "    read_data = f.read()\n",
    "f.closed"
   ]
  },
  {
   "cell_type": "code",
   "execution_count": null,
   "metadata": {},
   "outputs": [],
   "source": []
  },
  {
   "cell_type": "code",
   "execution_count": 19,
   "metadata": {},
   "outputs": [
    {
     "name": "stdout",
     "output_type": "stream",
     "text": [
      "A vida é bela.\n"
     ]
    }
   ],
   "source": [
    "#Existe algo de estranho? Você consegue resolver?\n",
    "with open('workfile', 'r') as f:\n",
    "    line = f.readline()\n",
    "    print(line)"
   ]
  },
  {
   "cell_type": "markdown",
   "metadata": {},
   "source": [
    "Exercícios\n",
    "--------\n",
    "Imprimir as 5 primeiras linhas do arquivo \n",
    "\n",
    "Arquivo vendas de biodiesel: <a href='http://www.anp.gov.br/producao-de-biocombustiveis/biodiesel/informacoes-de-mercado'>http://www.anp.gov.br/producao-de-biocombustiveis/biodiesel/informacoes-de-mercado</a>.\n",
    "\n",
    "ou em \"Dados/vendas-biodiesel-uf-2019.csv\"\n",
    "\n"
   ]
  },
  {
   "cell_type": "markdown",
   "metadata": {},
   "source": [
    "Arquivo CSV\n",
    "-----------\n",
    "https://docs.python.org/2/library/csv.html"
   ]
  },
  {
   "cell_type": "code",
   "execution_count": 21,
   "metadata": {},
   "outputs": [
    {
     "name": "stdout",
     "output_type": "stream",
     "text": [
      "Column names are Produto, Ano, UF de Origem, UF de Destino, Unidade, JANEIRO, FEVEREIRO, MARÇO, ABRIL, MAIO, JUNHO, JULHO, AGOSTO, SETEMBRO, OUTUBRO, NOVEMBRO, DEZEMBRO, Total\n",
      "['Biodiesel B100', '2019', 'BA', 'AL', 'm³', ' 1.832 ', ' 1.569 ', ' 1.461 ', ' 1.682 ', ' 1.023 ', ' 1.180 ', ' 1.236 ', ' 1.343 ', '', '', '', '', ' 11.326 ']\n",
      "['Biodiesel B100', '2019', 'BA', 'BA', 'm³', ' 15.808 ', ' 14.432 ', ' 11.537 ', ' 13.275 ', ' 18.141 ', ' 17.163 ', ' 13.432 ', ' 13.360 ', '', '', '', '', ' 117.148 ']\n",
      "['Biodiesel B100', '2019', 'BA', 'CE', 'm³', ' 6.488 ', ' 5.457 ', ' 2.612 ', ' 2.546 ', ' 5.887 ', ' 5.922 ', ' 6.413 ', ' 6.904 ', '', '', '', '', ' 42.229 ']\n",
      "['Biodiesel B100', '2019', 'BA', 'ES', 'm³', '', '', '', '', '', '', '', ' 273 ', '', '', '', '', ' 273 ']\n"
     ]
    }
   ],
   "source": [
    "import csv\n",
    "\n",
    "path = 'Dados/vendas-biodiesel-uf-2019.csv'\n",
    "\n",
    "with open(path) as csv_file:\n",
    "    csv_reader = csv.reader(csv_file, delimiter=';')\n",
    "    line_count = 0\n",
    "    for row in csv_reader:\n",
    "        if line_count == 0:\n",
    "            print(f'Column names are {\", \".join(row)}')\n",
    "            line_count += 1\n",
    "        else:\n",
    "            print(row)\n",
    "            line_count += 1\n",
    "        if line_count == 5:\n",
    "            break\n",
    "#     print(f'Processed {line_count} lines.')"
   ]
  },
  {
   "cell_type": "code",
   "execution_count": 23,
   "metadata": {},
   "outputs": [],
   "source": [
    "import csv\n",
    "\n",
    "with open('employee_file.csv', mode='w') as employee_file:\n",
    "    employee_writer = csv.writer(employee_file, delimiter=',', quotechar='\"', quoting=csv.QUOTE_MINIMAL)\n",
    "\n",
    "    employee_writer.writerow(['John Smith', 'Accounting', 'November'])\n",
    "    employee_writer.writerow(['Erica Meyers', 'IT', 'March'])"
   ]
  },
  {
   "cell_type": "code",
   "execution_count": 22,
   "metadata": {},
   "outputs": [],
   "source": [
    "import csv\n",
    "\n",
    "with open('employee_file2.csv', mode='w') as csv_file:\n",
    "    fieldnames = ['emp_name', 'dept', 'birth_month']\n",
    "    writer = csv.DictWriter(csv_file, fieldnames=fieldnames)\n",
    "\n",
    "    writer.writeheader()\n",
    "    writer.writerow({'emp_name': 'John Smith', 'dept': 'Accounting', 'birth_month': 'November'})\n",
    "    writer.writerow({'emp_name': 'Erica Meyers', 'dept': 'IT', 'birth_month': 'March'})"
   ]
  },
  {
   "cell_type": "markdown",
   "metadata": {},
   "source": [
    "Exercícios\n",
    "---------\n"
   ]
  },
  {
   "cell_type": "markdown",
   "metadata": {},
   "source": [
    "Imprimir as 5 primeiras linhas do arquivo \n",
    "\"Dados/vendas-biodiesel-uf-2019.csv\""
   ]
  },
  {
   "cell_type": "markdown",
   "metadata": {},
   "source": [
    "Qual foi o estado em que o preço do biodiesel estavava mais alto?"
   ]
  },
  {
   "cell_type": "code",
   "execution_count": null,
   "metadata": {},
   "outputs": [],
   "source": [
    "Pacotes auxiliares\n"
   ]
  },
  {
   "cell_type": "code",
   "execution_count": null,
   "metadata": {},
   "outputs": [],
   "source": [
    "import os "
   ]
  },
  {
   "cell_type": "code",
   "execution_count": null,
   "metadata": {},
   "outputs": [],
   "source": [
    "import sys"
   ]
  }
 ],
 "metadata": {
  "kernelspec": {
   "display_name": "Python 3",
   "language": "python",
   "name": "python3"
  },
  "language_info": {
   "codemirror_mode": {
    "name": "ipython",
    "version": 3
   },
   "file_extension": ".py",
   "mimetype": "text/x-python",
   "name": "python",
   "nbconvert_exporter": "python",
   "pygments_lexer": "ipython3",
   "version": "3.7.3"
  }
 },
 "nbformat": 4,
 "nbformat_minor": 4
}
